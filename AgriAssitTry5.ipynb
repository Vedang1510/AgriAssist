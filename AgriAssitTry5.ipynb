{
  "nbformat": 4,
  "nbformat_minor": 0,
  "metadata": {
    "colab": {
      "provenance": [],
      "mount_file_id": "1R1nbZ2nEf-gXNzMcwb6OATtB1utmucxY",
      "authorship_tag": "ABX9TyNIfQSnQ5ZnY3NsVrdtoDJl",
      "include_colab_link": true
    },
    "kernelspec": {
      "name": "python3",
      "display_name": "Python 3"
    },
    "language_info": {
      "name": "python"
    }
  },
  "cells": [
    {
      "cell_type": "markdown",
      "metadata": {
        "id": "view-in-github",
        "colab_type": "text"
      },
      "source": [
        "<a href=\"https://colab.research.google.com/github/Vedang1510/AgriAssist/blob/main/AgriAssitTry5.ipynb\" target=\"_parent\"><img src=\"https://colab.research.google.com/assets/colab-badge.svg\" alt=\"Open In Colab\"/></a>"
      ]
    },
    {
      "cell_type": "code",
      "source": [
        "!pip uninstall tflearn\n",
        "!pip install git+https://github.com/MihaMarkic/tflearn.git@fix/is_sequence_missing\n",
        "\n",
        "!pip install Pillow==9.0.0"
      ],
      "metadata": {
        "colab": {
          "base_uri": "https://localhost:8080/"
        },
        "id": "UUMGHU0Ie9WD",
        "outputId": "06d0ff00-49a1-4c6d-9cbf-9d27b3b60912"
      },
      "execution_count": 1,
      "outputs": [
        {
          "output_type": "stream",
          "name": "stdout",
          "text": [
            "Found existing installation: tflearn 0.5.0\n",
            "Uninstalling tflearn-0.5.0:\n",
            "  Would remove:\n",
            "    /usr/local/lib/python3.11/dist-packages/tflearn-0.5.0.dist-info/*\n",
            "    /usr/local/lib/python3.11/dist-packages/tflearn/*\n",
            "Proceed (Y/n)? y\n",
            "  Successfully uninstalled tflearn-0.5.0\n",
            "Collecting git+https://github.com/MihaMarkic/tflearn.git@fix/is_sequence_missing\n",
            "  Cloning https://github.com/MihaMarkic/tflearn.git (to revision fix/is_sequence_missing) to /tmp/pip-req-build-140ra5pc\n",
            "  Running command git clone --filter=blob:none --quiet https://github.com/MihaMarkic/tflearn.git /tmp/pip-req-build-140ra5pc\n",
            "  Running command git checkout -b fix/is_sequence_missing --track origin/fix/is_sequence_missing\n",
            "  Switched to a new branch 'fix/is_sequence_missing'\n",
            "  Branch 'fix/is_sequence_missing' set up to track remote branch 'fix/is_sequence_missing' from 'origin'.\n",
            "  Resolved https://github.com/MihaMarkic/tflearn.git to commit 6472b8588e758ff4a33a2764d4ee638bbd0e42f0\n",
            "  Preparing metadata (setup.py) ... \u001b[?25l\u001b[?25hdone\n",
            "Requirement already satisfied: numpy in /usr/local/lib/python3.11/dist-packages (from tflearn==0.5.0) (1.26.4)\n",
            "Requirement already satisfied: six in /usr/local/lib/python3.11/dist-packages (from tflearn==0.5.0) (1.17.0)\n",
            "Requirement already satisfied: Pillow in /usr/local/lib/python3.11/dist-packages (from tflearn==0.5.0) (9.0.0)\n",
            "Building wheels for collected packages: tflearn\n",
            "  Building wheel for tflearn (setup.py) ... \u001b[?25l\u001b[?25hdone\n",
            "  Created wheel for tflearn: filename=tflearn-0.5.0-py3-none-any.whl size=130659 sha256=1fbd9d36dd9feac3c8fa4895ec4c49b72800c4613d5946491e0e610187d639da\n",
            "  Stored in directory: /tmp/pip-ephem-wheel-cache-cyaxvrub/wheels/3f/c2/5d/cf0be63d86a0a58bd81a5c9d71531455fc1a46176b90c2adb6\n",
            "Successfully built tflearn\n",
            "Installing collected packages: tflearn\n",
            "Successfully installed tflearn-0.5.0\n",
            "Requirement already satisfied: Pillow==9.0.0 in /usr/local/lib/python3.11/dist-packages (9.0.0)\n"
          ]
        }
      ]
    },
    {
      "cell_type": "code",
      "source": [
        "#import libraries\n",
        "import nltk\n",
        "nltk.download('punkt')\n",
        "from nltk.stem.lancaster import LancasterStemmer\n",
        "stemmer = LancasterStemmer()\n",
        "\n",
        "#importing lib needed for tensorflow processing\n",
        "import tensorflow as tf #version 1.13.2\n",
        "import numpy as np\n",
        "import tflearn\n",
        "import random\n",
        "import json\n",
        "import numpy as np\n",
        "import pickle\n"
      ],
      "metadata": {
        "id": "4ES55-BNbXhF",
        "colab": {
          "base_uri": "https://localhost:8080/"
        },
        "outputId": "a4784cd5-e5c2-4f06-9c40-34fecd0b613d"
      },
      "execution_count": 2,
      "outputs": [
        {
          "output_type": "stream",
          "name": "stderr",
          "text": [
            "[nltk_data] Downloading package punkt to /root/nltk_data...\n",
            "[nltk_data]   Unzipping tokenizers/punkt.zip.\n",
            "WARNING:tensorflow:From /usr/local/lib/python3.11/dist-packages/tensorflow/python/compat/v2_compat.py:98: disable_resource_variables (from tensorflow.python.ops.resource_variables_toggle) is deprecated and will be removed in a future version.\n",
            "Instructions for updating:\n",
            "non-resource variables are not supported in the long term\n"
          ]
        }
      ]
    },
    {
      "cell_type": "code",
      "source": [
        "nltk.download('punkt_tab') # Download the punkt_tab data package"
      ],
      "metadata": {
        "colab": {
          "base_uri": "https://localhost:8080/"
        },
        "id": "6hbZgs-pfrSY",
        "outputId": "55fd875a-7486-4fc9-8b63-5774679fe697"
      },
      "execution_count": 3,
      "outputs": [
        {
          "output_type": "stream",
          "name": "stderr",
          "text": [
            "[nltk_data] Downloading package punkt_tab to /root/nltk_data...\n",
            "[nltk_data]   Unzipping tokenizers/punkt_tab.zip.\n"
          ]
        },
        {
          "output_type": "execute_result",
          "data": {
            "text/plain": [
              "True"
            ]
          },
          "metadata": {},
          "execution_count": 3
        }
      ]
    },
    {
      "cell_type": "code",
      "execution_count": 4,
      "metadata": {
        "id": "RyItAJdqeuim"
      },
      "outputs": [],
      "source": [
        "#import or intent file\n",
        "with open(\"/content/drive/MyDrive/temp.json\") as json_data:\n",
        "  intents = json.load(json_data)"
      ]
    },
    {
      "cell_type": "code",
      "source": [
        "# Empty lists for appending the data after processing NLP\n",
        "words=[]\n",
        "documents = []\n",
        "classes = []\n",
        "\n",
        "\n",
        "# This list will be used for ignoring all unwanted punctuation marks.\n",
        "ignore = [\"?\"]\n",
        "\n",
        "# Starting a loop through each intent in intents[\"patterns\"]\n",
        "for intent in intents[\"Sheet1\"]:\n",
        "    for pattern in intent[\"Questions\"]:\n",
        "\n",
        "        # tokenizing each and every word in the sentence by using word tokenizer and storing in w\n",
        "        w = nltk.word_tokenize(pattern)\n",
        "        #print(w)\n",
        "\n",
        "        # Adding tokenized words to words empty list that we created\n",
        "        words.extend(w)\n",
        "        #print(words)\n",
        "\n",
        "        # Adding words to documents with tag given in intents file\n",
        "        documents.append((w, intent[\"tag\"]))\n",
        "        #print(documents)\n",
        "\n",
        "        # Adding only tag to our classes list\n",
        "        if intent[\"tag\"] not in classes:\n",
        "            classes.append(intent[\"tag\"])  #If tag is not present in classes[] then it will append into it.\n",
        "            #print(classes)"
      ],
      "metadata": {
        "id": "9WGufouIhlSi"
      },
      "execution_count": 5,
      "outputs": []
    },
    {
      "cell_type": "code",
      "source": [
        "#Performing Stemming by using stemmer.stem() nd lower each word\n",
        "#Running loop in words[] and ignoring punctuation marks present in ignore[]\n",
        "\n",
        "words = [stemmer.stem(w.lower()) for w in words if w not in ignore]\n",
        "words = sorted(list(set(words)))  #Removing Duplicates in words[]\n",
        "\n",
        "#Removing Duplicate Classes\n",
        "# Converting list of lists to list of strings before set creation\n",
        "# Extract unique class names directly from documents\n",
        "classes = sorted(list(set([doc[1] for doc in documents])))\n",
        "\n",
        "#Printing length of lists we formed\n",
        "print(len(documents),\"Documents \\n\")\n",
        "print(len(classes),\"Classes \\n\")\n",
        "print(len(words), \"Stemmed Words \")"
      ],
      "metadata": {
        "colab": {
          "base_uri": "https://localhost:8080/"
        },
        "id": "HHnudElye0Fi",
        "outputId": "a265cf2e-e61c-4b1d-8c1b-2910ee3b7bbd"
      },
      "execution_count": 6,
      "outputs": [
        {
          "output_type": "stream",
          "name": "stdout",
          "text": [
            "47 Documents \n",
            "\n",
            "5 Classes \n",
            "\n",
            "38 Stemmed Words \n"
          ]
        }
      ]
    },
    {
      "cell_type": "code",
      "source": [
        "#Creating Training Data which will be furthur used for training\n",
        "training = []\n",
        "output = []\n",
        "\n",
        "#Creating empty array for output\n",
        "output_empty = [0] * len(classes)\n",
        "\n",
        "#Creating Training set and bag of words for each sentence\n",
        "for doc in documents:\n",
        "    bag = [] #Initialising empty bag of words\n",
        "\n",
        "    pattern_words = doc[0] #Storing list of tokenized words for the documents[] tp pattern_words\n",
        "    #print(pattern_words)\n",
        "\n",
        "    #Again Stemming each word from pattern_words\n",
        "    pattern_words = [stemmer.stem(word.lower()) for word in pattern_words]\n",
        "    #print(pattern_words)\n",
        "\n",
        "    #Creating bag of words array\n",
        "    for w in words:\n",
        "        bag.append(1) if w in pattern_words else bag.append(0)\n",
        "\n",
        "    #It will give output 1 for curent tag and 0 for all other tags\n",
        "    output_row = list(output_empty)\n",
        "    output_row[classes.index(doc[1])] =1\n",
        "    training.append([bag, output_row])"
      ],
      "metadata": {
        "id": "8KiDrc06o6yH"
      },
      "execution_count": 7,
      "outputs": []
    },
    {
      "cell_type": "code",
      "source": [
        "# Shuffle training data\n",
        "random.shuffle(training)\n",
        "\n",
        "# Convert to numpy array properly\n",
        "train_x = np.array([item[0] for item in training], dtype=np.int32)  # Ensure same data type\n",
        "train_y = np.array([item[1] for item in training], dtype=np.int32)  # Ensure same data type\n"
      ],
      "metadata": {
        "id": "l_W9kiSU-snz"
      },
      "execution_count": 8,
      "outputs": []
    },
    {
      "cell_type": "code",
      "source": [
        "# Reset Graph\n",
        "tf.compat.v1.reset_default_graph()\n",
        "\n",
        "# Define Neural Network\n",
        "net = tflearn.input_data(shape=[None, len(train_x[0])])\n",
        "net = tflearn.fully_connected(net, 10)\n",
        "net = tflearn.fully_connected(net, 10)\n",
        "net = tflearn.fully_connected(net, len(train_y[0]), activation=\"softmax\")\n",
        "net = tflearn.regression(net)\n",
        "\n",
        "# Define Model\n",
        "model = tflearn.DNN(net, tensorboard_dir=\"tflearn_logs\")\n",
        "\n",
        "# Training and storing accuracy history\n",
        "model.fit(train_x, train_y, n_epoch=1000, batch_size=8, show_metric=True)\n",
        "\n",
        "# Save Model\n",
        "model.save(\"model.tflearn\")"
      ],
      "metadata": {
        "colab": {
          "base_uri": "https://localhost:8080/"
        },
        "id": "Bqcg4lia-uva",
        "outputId": "b68bd020-1208-41b8-d82e-d98469a1d547"
      },
      "execution_count": 9,
      "outputs": [
        {
          "output_type": "stream",
          "name": "stdout",
          "text": [
            "Training Step: 5999  | total loss: \u001b[1m\u001b[32m0.26566\u001b[0m\u001b[0m | time: 0.036s\n",
            "| Adam | epoch: 1000 | loss: 0.26566 - acc: 0.8178 -- iter: 40/47\n",
            "Training Step: 6000  | total loss: \u001b[1m\u001b[32m0.26993\u001b[0m\u001b[0m | time: 0.044s\n",
            "| Adam | epoch: 1000 | loss: 0.26993 - acc: 0.8074 -- iter: 47/47\n",
            "--\n"
          ]
        }
      ]
    },
    {
      "cell_type": "code",
      "source": [
        "#Importing pickle module\n",
        "import pickle\n",
        "\n",
        "#Dumping training data by using dump() and writing it into training_data in binary mode\n",
        "pickle.dump({\"words\":words, \"classes\":classes, \"train_x\":train_x, \"train_y\":train_y}, open(\"training_data\", \"wb\"))"
      ],
      "metadata": {
        "id": "1FzmSEh2AMtI"
      },
      "execution_count": 18,
      "outputs": []
    },
    {
      "cell_type": "code",
      "source": [
        "#Restoring all data structure\n",
        "data = pickle.load(open(\"training_data\",\"rb\"))\n",
        "words = data['words']\n",
        "classes = data['classes']\n",
        "train_x = data['train_x']\n",
        "train_y = data['train_y']"
      ],
      "metadata": {
        "id": "kGvqBAR1AyFd"
      },
      "execution_count": 19,
      "outputs": []
    },
    {
      "cell_type": "code",
      "source": [
        "with open(\"/content/drive/MyDrive/temp.json\") as json_data:\n",
        "    intents = json.load(json_data)  #Loading our json_data"
      ],
      "metadata": {
        "id": "WI7foiCdA0yl"
      },
      "execution_count": 21,
      "outputs": []
    },
    {
      "cell_type": "code",
      "source": [
        "#load the saved model\n",
        "model.load('./model.tflearn')"
      ],
      "metadata": {
        "id": "g6p82jXUA2nO"
      },
      "execution_count": 22,
      "outputs": []
    },
    {
      "cell_type": "code",
      "source": [
        "#Cleaning User Input\n",
        "def clean_up_sentence(sentence):\n",
        "\n",
        "    # Tokenizing the pattern\n",
        "    sentence_words = nltk.word_tokenize(sentence) #Again tokenizing the sentence\n",
        "\n",
        "    #Stemming each word from the user's input\n",
        "    sentence_words= [stemmer.stem(word.lower()) for word in sentence_words]\n",
        "\n",
        "    return sentence_words\n",
        "\n",
        "#Returning bag of words array: 0 or 1 or each word in the bag that exists in as we have declared in above lines\n",
        "def bow(sentence, words, show_details=False):\n",
        "\n",
        "    #Tokenizing the user input\n",
        "    sentence_words = clean_up_sentence(sentence)\n",
        "\n",
        "    #Generating bag of words from the sentence that user entered\n",
        "    bag = [0]*len(words)\n",
        "    for s in sentence_words:\n",
        "        for i,w in enumerate(words):\n",
        "            if w == s:\n",
        "                bag[i] = 1\n",
        "                if show_details:\n",
        "                    print(\"Found in bag: %s\"% w)\n",
        "    return(np.array(bag))"
      ],
      "metadata": {
        "id": "79pZMd0WBCDb"
      },
      "execution_count": 23,
      "outputs": []
    },
    {
      "cell_type": "code",
      "source": [
        "#Adding some context to the conversation for better results.\n",
        "\n",
        "context = {} #Create a dictionary to hold user's context\n",
        "\n",
        "ERROR_THRESHOLD = 0.25\n",
        "def classify(sentence):\n",
        "\n",
        "    #Generating probabilities from the model\n",
        "    results = model.predict([bow(sentence, words)])[0]\n",
        "\n",
        "    #Filter out predictions below a threshold\n",
        "    results = [[i,r] for i,r in enumerate(results) if r>ERROR_THRESHOLD]\n",
        "\n",
        "    #Sorting by strength of probability\n",
        "    results.sort(key=lambda x: x[1], reverse=True)\n",
        "    return_list = []\n",
        "    for r in results:\n",
        "        return_list.append((classes[r[0]], r[1]))\n",
        "\n",
        "    # return tuple of intent and probability\n",
        "    return return_list\n",
        "\n",
        "def response(sentence, userID='123', show_details=False):\n",
        "    results = classify(sentence)\n",
        "\n",
        "    #If we have a classification then find the matching intent tag\n",
        "    if results:\n",
        "\n",
        "        #Loop as long as there are matches to process\n",
        "        while results:\n",
        "            for i in intents['Sheet1']:\n",
        "\n",
        "                #Find a tag matching the first result\n",
        "                if i['tag'] == results[0][0]:\n",
        "\n",
        "                    #Set context for this intent if necessary\n",
        "                    if 'context_set' in i:\n",
        "                        if show_details: print ('context:', i['context_set'])\n",
        "                        context[userID] = i['context_set']\n",
        "\n",
        "                    # check if this intent is contextual and applies to this user's conversation\n",
        "                    if not 'context_filter' in i or \\\n",
        "                        (userID in context and 'context_filter' in i and i['context_filter'] == context[userID]):\n",
        "                        if show_details: print ('tag:', i['tag'])\n",
        "\n",
        "                        #A random response from the intent\n",
        "                        return print(random.choice(i['Answers']))\n",
        "\n",
        "            results.pop(0)"
      ],
      "metadata": {
        "id": "8pUG03AjBEJ0"
      },
      "execution_count": 24,
      "outputs": []
    },
    {
      "cell_type": "code",
      "source": [
        "from sklearn.metrics import accuracy_score, precision_score, recall_score, f1_score\n",
        "\n",
        "def evaluate_performance():\n",
        "    y_true = []  # Actual labels\n",
        "    y_pred = []  # Predicted labels\n",
        "\n",
        "    for doc in documents:\n",
        "        sentence = \" \".join(doc[0])  # Convert tokenized words back to a sentence\n",
        "        true_label = doc[1]  # Actual label\n",
        "        predicted_label = classify(sentence)[0][0] if classify(sentence) else \"Unknown\"\n",
        "\n",
        "        y_true.append(true_label)\n",
        "        y_pred.append(predicted_label)\n",
        "\n",
        "    print(\"Accuracy:\", accuracy_score(y_true, y_pred))\n",
        "    print(\"Precision:\", precision_score(y_true, y_pred, average='weighted', zero_division=1))\n",
        "    print(\"Recall:\", recall_score(y_true, y_pred, average='weighted', zero_division=1))\n",
        "    print(\"F1 Score:\", f1_score(y_true, y_pred, average='weighted', zero_division=1))\n",
        "\n",
        "# Call the function after training the model\n",
        "evaluate_performance()\n"
      ],
      "metadata": {
        "colab": {
          "base_uri": "https://localhost:8080/"
        },
        "id": "-MzrPXdnBKTk",
        "outputId": "1344dc61-2b5e-4699-def4-7c8b85369e17"
      },
      "execution_count": 25,
      "outputs": [
        {
          "output_type": "stream",
          "name": "stdout",
          "text": [
            "Accuracy: 0.8085106382978723\n",
            "Precision: 0.8143870314083079\n",
            "Recall: 0.8085106382978723\n",
            "F1 Score: 0.8051023109029827\n"
          ]
        }
      ]
    },
    {
      "cell_type": "code",
      "source": [],
      "metadata": {
        "id": "UPqybhv4BQ4T"
      },
      "execution_count": null,
      "outputs": []
    }
  ]
}