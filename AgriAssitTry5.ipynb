{
  "cells": [
    {
      "cell_type": "markdown",
      "metadata": {
        "id": "view-in-github",
        "colab_type": "text"
      },
      "source": [
        "<a href=\"https://colab.research.google.com/github/Vedang1510/AgriAssist/blob/main/AgriAssitTry5.ipynb\" target=\"_parent\"><img src=\"https://colab.research.google.com/assets/colab-badge.svg\" alt=\"Open In Colab\"/></a>"
      ]
    },
    {
      "cell_type": "code",
      "execution_count": 1,
      "metadata": {
        "colab": {
          "base_uri": "https://localhost:8080/"
        },
        "id": "UUMGHU0Ie9WD",
        "outputId": "0f64f009-9209-4ea1-99c9-ff3c31b67048"
      },
      "outputs": [
        {
          "output_type": "stream",
          "name": "stdout",
          "text": [
            "Found existing installation: tflearn 0.5.0\n",
            "Uninstalling tflearn-0.5.0:\n",
            "  Would remove:\n",
            "    /usr/local/lib/python3.11/dist-packages/tflearn-0.5.0.dist-info/*\n",
            "    /usr/local/lib/python3.11/dist-packages/tflearn/*\n",
            "Proceed (Y/n)? y\n",
            "  Successfully uninstalled tflearn-0.5.0\n",
            "Collecting git+https://github.com/MihaMarkic/tflearn.git@fix/is_sequence_missing\n",
            "  Cloning https://github.com/MihaMarkic/tflearn.git (to revision fix/is_sequence_missing) to /tmp/pip-req-build-ckfn44t7\n",
            "  Running command git clone --filter=blob:none --quiet https://github.com/MihaMarkic/tflearn.git /tmp/pip-req-build-ckfn44t7\n",
            "  Running command git checkout -b fix/is_sequence_missing --track origin/fix/is_sequence_missing\n",
            "  Switched to a new branch 'fix/is_sequence_missing'\n",
            "  Branch 'fix/is_sequence_missing' set up to track remote branch 'fix/is_sequence_missing' from 'origin'.\n",
            "  Resolved https://github.com/MihaMarkic/tflearn.git to commit 6472b8588e758ff4a33a2764d4ee638bbd0e42f0\n",
            "  Preparing metadata (setup.py) ... \u001b[?25l\u001b[?25hdone\n",
            "Requirement already satisfied: numpy in /usr/local/lib/python3.11/dist-packages (from tflearn==0.5.0) (1.26.4)\n",
            "Requirement already satisfied: six in /usr/local/lib/python3.11/dist-packages (from tflearn==0.5.0) (1.17.0)\n",
            "Requirement already satisfied: Pillow in /usr/local/lib/python3.11/dist-packages (from tflearn==0.5.0) (9.0.0)\n",
            "Building wheels for collected packages: tflearn\n",
            "  Building wheel for tflearn (setup.py) ... \u001b[?25l\u001b[?25hdone\n",
            "  Created wheel for tflearn: filename=tflearn-0.5.0-py3-none-any.whl size=130659 sha256=9a453a7fec39a64c1995ee69ffbd2d4a3e6711aa8845551dc9f28bd0af354197\n",
            "  Stored in directory: /tmp/pip-ephem-wheel-cache-zcredbt5/wheels/3f/c2/5d/cf0be63d86a0a58bd81a5c9d71531455fc1a46176b90c2adb6\n",
            "Successfully built tflearn\n",
            "Installing collected packages: tflearn\n",
            "Successfully installed tflearn-0.5.0\n",
            "Requirement already satisfied: Pillow==9.0.0 in /usr/local/lib/python3.11/dist-packages (9.0.0)\n"
          ]
        }
      ],
      "source": [
        "!pip uninstall tflearn\n",
        "!pip install git+https://github.com/MihaMarkic/tflearn.git@fix/is_sequence_missing\n",
        "\n",
        "!pip install Pillow==9.0.0"
      ]
    },
    {
      "cell_type": "code",
      "execution_count": 2,
      "metadata": {
        "colab": {
          "base_uri": "https://localhost:8080/"
        },
        "id": "4ES55-BNbXhF",
        "outputId": "605eae70-3fac-4f74-e5a1-73d76ee23bca"
      },
      "outputs": [
        {
          "output_type": "stream",
          "name": "stderr",
          "text": [
            "[nltk_data] Downloading package punkt to /root/nltk_data...\n",
            "[nltk_data]   Package punkt is already up-to-date!\n",
            "WARNING:tensorflow:From /usr/local/lib/python3.11/dist-packages/tensorflow/python/compat/v2_compat.py:98: disable_resource_variables (from tensorflow.python.ops.resource_variables_toggle) is deprecated and will be removed in a future version.\n",
            "Instructions for updating:\n",
            "non-resource variables are not supported in the long term\n"
          ]
        }
      ],
      "source": [
        "#import libraries\n",
        "import nltk\n",
        "nltk.download('punkt')\n",
        "from nltk.stem.lancaster import LancasterStemmer\n",
        "stemmer = LancasterStemmer()\n",
        "\n",
        "#importing lib needed for tensorflow processing\n",
        "import tensorflow as tf #version 1.13.2\n",
        "import numpy as np\n",
        "import tflearn\n",
        "import random\n",
        "import json\n",
        "import numpy as np\n",
        "import pickle\n"
      ]
    },
    {
      "cell_type": "code",
      "execution_count": 3,
      "metadata": {
        "colab": {
          "base_uri": "https://localhost:8080/"
        },
        "id": "6hbZgs-pfrSY",
        "outputId": "87e9bbba-fb3e-482a-ba84-c6deb204125b"
      },
      "outputs": [
        {
          "output_type": "stream",
          "name": "stderr",
          "text": [
            "[nltk_data] Downloading package punkt_tab to /root/nltk_data...\n",
            "[nltk_data]   Unzipping tokenizers/punkt_tab.zip.\n"
          ]
        },
        {
          "output_type": "execute_result",
          "data": {
            "text/plain": [
              "True"
            ]
          },
          "metadata": {},
          "execution_count": 3
        }
      ],
      "source": [
        "nltk.download('punkt_tab') # Download the punkt_tab data package"
      ]
    },
    {
      "cell_type": "code",
      "execution_count": 12,
      "metadata": {
        "id": "RyItAJdqeuim"
      },
      "outputs": [],
      "source": [
        "#import or intent file\n",
        "with open(\"/content/drive/MyDrive/improved_dataset.json\") as json_data:\n",
        "  intents = json.load(json_data)"
      ]
    },
    {
      "cell_type": "code",
      "execution_count": 13,
      "metadata": {
        "id": "9WGufouIhlSi"
      },
      "outputs": [],
      "source": [
        "# Empty lists for appending the data after processing NLP\n",
        "words=[]\n",
        "documents = []\n",
        "classes = []\n",
        "\n",
        "\n",
        "# This list will be used for ignoring all unwanted punctuation marks.\n",
        "ignore = [\"?\"]\n",
        "\n",
        "# Starting a loop through each intent in intents[\"patterns\"]\n",
        "for intent in intents[\"Sheet1\"]:\n",
        "    for pattern in intent[\"Questions\"]:\n",
        "\n",
        "        # tokenizing each and every word in the sentence by using word tokenizer and storing in w\n",
        "        w = nltk.word_tokenize(pattern)\n",
        "        #print(w)\n",
        "\n",
        "        # Adding tokenized words to words empty list that we created\n",
        "        words.extend(w)\n",
        "        #print(words)\n",
        "\n",
        "        # Adding words to documents with tag given in intents file\n",
        "        documents.append((w, intent[\"tag\"]))\n",
        "        #print(documents)\n",
        "\n",
        "        # Adding only tag to our classes list\n",
        "        if intent[\"tag\"] not in classes:\n",
        "            classes.append(intent[\"tag\"])  #If tag is not present in classes[] then it will append into it.\n",
        "            #print(classes)"
      ]
    },
    {
      "cell_type": "code",
      "execution_count": 14,
      "metadata": {
        "colab": {
          "base_uri": "https://localhost:8080/"
        },
        "id": "HHnudElye0Fi",
        "outputId": "19650459-5c00-4f39-947b-380674a785d5"
      },
      "outputs": [
        {
          "output_type": "stream",
          "name": "stdout",
          "text": [
            "455 Documents \n",
            "\n",
            "447 Classes \n",
            "\n",
            "548 Stemmed Words \n"
          ]
        }
      ],
      "source": [
        "#Performing Stemming by using stemmer.stem() nd lower each word\n",
        "#Running loop in words[] and ignoring punctuation marks present in ignore[]\n",
        "\n",
        "words = [stemmer.stem(w.lower()) for w in words if w not in ignore]\n",
        "words = sorted(list(set(words)))  #Removing Duplicates in words[]\n",
        "\n",
        "#Removing Duplicate Classes\n",
        "# Converting list of lists to list of strings before set creation\n",
        "# Extract unique class names directly from documents\n",
        "classes = sorted(list(set([doc[1] for doc in documents])))\n",
        "\n",
        "#Printing length of lists we formed\n",
        "print(len(documents),\"Documents \\n\")\n",
        "print(len(classes),\"Classes \\n\")\n",
        "print(len(words), \"Stemmed Words \")"
      ]
    },
    {
      "cell_type": "code",
      "execution_count": 15,
      "metadata": {
        "id": "8KiDrc06o6yH"
      },
      "outputs": [],
      "source": [
        "#Creating Training Data which will be furthur used for training\n",
        "training = []\n",
        "output = []\n",
        "\n",
        "#Creating empty array for output\n",
        "output_empty = [0] * len(classes)\n",
        "\n",
        "#Creating Training set and bag of words for each sentence\n",
        "for doc in documents:\n",
        "    bag = [] #Initialising empty bag of words\n",
        "\n",
        "    pattern_words = doc[0] #Storing list of tokenized words for the documents[] tp pattern_words\n",
        "    #print(pattern_words)\n",
        "\n",
        "    #Again Stemming each word from pattern_words\n",
        "    pattern_words = [stemmer.stem(word.lower()) for word in pattern_words]\n",
        "    #print(pattern_words)\n",
        "\n",
        "    #Creating bag of words array\n",
        "    for w in words:\n",
        "        bag.append(1) if w in pattern_words else bag.append(0)\n",
        "\n",
        "    #It will give output 1 for curent tag and 0 for all other tags\n",
        "    output_row = list(output_empty)\n",
        "    output_row[classes.index(doc[1])] =1\n",
        "    training.append([bag, output_row])"
      ]
    },
    {
      "cell_type": "code",
      "execution_count": 16,
      "metadata": {
        "id": "l_W9kiSU-snz"
      },
      "outputs": [],
      "source": [
        "# Shuffle training data\n",
        "random.shuffle(training)\n",
        "\n",
        "# Convert to numpy array properly\n",
        "train_x = np.array([item[0] for item in training], dtype=np.int32)  # Ensure same data type\n",
        "train_y = np.array([item[1] for item in training], dtype=np.int32)  # Ensure same data type\n"
      ]
    },
    {
      "cell_type": "code",
      "execution_count": 17,
      "metadata": {
        "colab": {
          "base_uri": "https://localhost:8080/"
        },
        "id": "Bqcg4lia-uva",
        "outputId": "de34604e-c6ca-47b1-f2f0-89d83cd53007"
      },
      "outputs": [
        {
          "output_type": "stream",
          "name": "stdout",
          "text": [
            "Training Step: 56999  | total loss: \u001b[1m\u001b[32m0.03706\u001b[0m\u001b[0m | time: 0.295s\n",
            "| Adam | epoch: 1000 | loss: 0.03706 - acc: 0.9617 -- iter: 448/455\n",
            "Training Step: 57000  | total loss: \u001b[1m\u001b[32m0.04124\u001b[0m\u001b[0m | time: 0.299s\n",
            "| Adam | epoch: 1000 | loss: 0.04124 - acc: 0.9655 -- iter: 455/455\n",
            "--\n"
          ]
        }
      ],
      "source": [
        "# Reset Graph\n",
        "tf.compat.v1.reset_default_graph()\n",
        "\n",
        "# Define Neural Network\n",
        "net = tflearn.input_data(shape=[None, len(train_x[0])])\n",
        "net = tflearn.fully_connected(net, 10)\n",
        "net = tflearn.fully_connected(net, 10)\n",
        "net = tflearn.fully_connected(net, len(train_y[0]), activation=\"softmax\")\n",
        "net = tflearn.regression(net)\n",
        "\n",
        "# Define Model\n",
        "model = tflearn.DNN(net, tensorboard_dir=\"tflearn_logs\")\n",
        "\n",
        "# Training and storing accuracy history\n",
        "model.fit(train_x, train_y, n_epoch=1000, batch_size=8, show_metric=True)\n",
        "\n",
        "# Save Model\n",
        "model.save(\"model.tflearn\")"
      ]
    },
    {
      "cell_type": "code",
      "execution_count": 18,
      "metadata": {
        "id": "1FzmSEh2AMtI"
      },
      "outputs": [],
      "source": [
        "  #Importing pickle module\n",
        "import pickle\n",
        "\n",
        "#Dumping training data by using dump() and writing it into training_data in binary mode\n",
        "pickle.dump({\"words\":words, \"classes\":classes, \"train_x\":train_x, \"train_y\":train_y}, open(\"training_data\", \"wb\"))"
      ]
    },
    {
      "cell_type": "code",
      "execution_count": 19,
      "metadata": {
        "id": "HS15CDoH_cRE"
      },
      "outputs": [],
      "source": [
        "#Restoring all data structure\n",
        "data = pickle.load(open(\"training_data\",\"rb\"))\n",
        "words = data['words']\n",
        "classes = data['classes']\n",
        "train_x = data['train_x']\n",
        "train_y = data['train_y']"
      ]
    },
    {
      "cell_type": "code",
      "execution_count": 20,
      "metadata": {
        "id": "DdtdqtUW_e0f"
      },
      "outputs": [],
      "source": [
        "with open(\"/content/drive/MyDrive/improved_dataset.json\") as json_data:\n",
        "    intents = json.load(json_data)  #Loading our json_data"
      ]
    },
    {
      "cell_type": "code",
      "execution_count": 21,
      "metadata": {
        "id": "XaaTEnkW_pe3"
      },
      "outputs": [],
      "source": [
        "#load the saved model\n",
        "model.load('./model.tflearn')"
      ]
    },
    {
      "cell_type": "code",
      "execution_count": 22,
      "metadata": {
        "id": "E3vY_mIU_sBj"
      },
      "outputs": [],
      "source": [
        "#Cleaning User Input\n",
        "def clean_up_sentence(sentence):\n",
        "\n",
        "    # Tokenizing the pattern\n",
        "    sentence_words = nltk.word_tokenize(sentence) #Again tokenizing the sentence\n",
        "\n",
        "    #Stemming each word from the user's input\n",
        "    sentence_words= [stemmer.stem(word.lower()) for word in sentence_words]\n",
        "\n",
        "    return sentence_words\n",
        "\n",
        "#Returning bag of words array: 0 or 1 or each word in the bag that exists in as we have declared in above lines\n",
        "def bow(sentence, words, show_details=False):\n",
        "\n",
        "    #Tokenizing the user input\n",
        "    sentence_words = clean_up_sentence(sentence)\n",
        "\n",
        "    #Generating bag of words from the sentence that user entered\n",
        "    bag = [0]*len(words)\n",
        "    for s in sentence_words:\n",
        "        for i,w in enumerate(words):\n",
        "            if w == s:\n",
        "                bag[i] = 1\n",
        "                if show_details:\n",
        "                    print(\"Found in bag: %s\"% w)\n",
        "    return(np.array(bag))"
      ]
    },
    {
      "cell_type": "code",
      "execution_count": 23,
      "metadata": {
        "id": "-U3fsjSn_unz"
      },
      "outputs": [],
      "source": [
        "\n",
        "#Adding some context to the conversation for better results.\n",
        "\n",
        "context = {} #Create a dictionary to hold user's context\n",
        "\n",
        "ERROR_THRESHOLD = 0.25\n",
        "def classify(sentence):\n",
        "\n",
        "    #Generating probabilities from the model\n",
        "    results = model.predict([bow(sentence, words)])[0]\n",
        "\n",
        "    #Filter out predictions below a threshold\n",
        "    results = [[i,r] for i,r in enumerate(results) if r>ERROR_THRESHOLD]\n",
        "\n",
        "    #Sorting by strength of probability\n",
        "    results.sort(key=lambda x: x[1], reverse=True)\n",
        "    return_list = []\n",
        "    for r in results:\n",
        "        return_list.append((classes[r[0]], r[1]))\n",
        "\n",
        "    # return tuple of intent and probability\n",
        "    return return_list\n",
        "\n",
        "def response(sentence, userID='123', show_details=False):\n",
        "    results = classify(sentence)\n",
        "\n",
        "    #If we have a classification then find the matching intent tag\n",
        "    if results:\n",
        "\n",
        "        #Loop as long as there are matches to process\n",
        "        while results:\n",
        "            for i in intents['Sheet1']:\n",
        "\n",
        "                #Find a tag matching the first result\n",
        "                if i['tag'] == results[0][0]:\n",
        "\n",
        "                    #Set context for this intent if necessary\n",
        "                    if 'context_set' in i:\n",
        "                        if show_details: print ('context:', i['context_set'])\n",
        "                        context[userID] = i['context_set']\n",
        "\n",
        "                    # check if this intent is contextual and applies to this user's conversation\n",
        "                    if not 'context_filter' in i or \\\n",
        "                        (userID in context and 'context_filter' in i and i['context_filter'] == context[userID]):\n",
        "                        if show_details: print ('tag:', i['tag'])\n",
        "\n",
        "                        #A random response from the intent\n",
        "                        return print(random.choice(i['Answers']))\n",
        "\n",
        "            results.pop(0)"
      ]
    },
    {
      "cell_type": "code",
      "execution_count": 24,
      "metadata": {
        "colab": {
          "base_uri": "https://localhost:8080/"
        },
        "id": "sQrJhStL-xeE",
        "outputId": "e2bd7972-1b88-41eb-ab79-153327cfe799"
      },
      "outputs": [
        {
          "output_type": "stream",
          "name": "stdout",
          "text": [
            "Accuracy: 0.9824175824175824\n",
            "Precision: 0.9912087912087912\n",
            "Recall: 0.9824175824175824\n",
            "F1 Score: 0.9765567765567766\n"
          ]
        }
      ],
      "source": [
        "from sklearn.metrics import accuracy_score, precision_score, recall_score, f1_score\n",
        "\n",
        "def evaluate_performance():\n",
        "    y_true = []  # Actual labels\n",
        "    y_pred = []  # Predicted labels\n",
        "\n",
        "    for doc in documents:\n",
        "        sentence = \" \".join(doc[0])  # Convert tokenized words back to a sentence\n",
        "        true_label = doc[1]  # Actual label\n",
        "        predicted_label = classify(sentence)[0][0] if classify(sentence) else \"Unknown\"\n",
        "\n",
        "        y_true.append(true_label)\n",
        "        y_pred.append(predicted_label)\n",
        "\n",
        "    print(\"Accuracy:\", accuracy_score(y_true, y_pred))\n",
        "    print(\"Precision:\", precision_score(y_true, y_pred, average='weighted', zero_division=1))\n",
        "    print(\"Recall:\", recall_score(y_true, y_pred, average='weighted', zero_division=1))\n",
        "    print(\"F1 Score:\", f1_score(y_true, y_pred, average='weighted', zero_division=1))\n",
        "\n",
        "# Call the function after training the model\n",
        "evaluate_performance()\n"
      ]
    },
    {
      "cell_type": "code",
      "execution_count": 32,
      "metadata": {
        "colab": {
          "base_uri": "https://localhost:8080/",
          "height": 838
        },
        "id": "v9CFS92N_9z8",
        "outputId": "180b0d4b-a91a-421e-b64c-06e06ea2cd9b"
      },
      "outputs": [
        {
          "output_type": "display_data",
          "data": {
            "text/plain": [
              "<Figure size 1200x1000 with 2 Axes>"
            ],
            "image/png": "[encoded data removed]"
          },
          "metadata": {}
        }
      ],
      "source": [
        "import numpy as np\n",
        "import matplotlib.pyplot as plt\n",
        "import seaborn as sns\n",
        "from sklearn.metrics import confusion_matrix\n",
        "import random\n",
        "\n",
        "# Simulate a large dataset with multiple classes\n",
        "np.random.seed(42)\n",
        "classes = [f\"Class_{i}\" for i in range(1, 21)]  # 20 classes\n",
        "n_samples = 1000  # Number of predictions\n",
        "\n",
        "# Randomly generate true and predicted labels\n",
        "y_true = np.random.choice(classes, n_samples)\n",
        "y_pred = np.random.choice(classes, n_samples)\n",
        "\n",
        "# Generate Confusion Matrix\n",
        "cm = confusion_matrix(y_true, y_pred, labels=classes)\n",
        "\n",
        "# Plot Confusion Matrix\n",
        "plt.figure(figsize=(12, 10))\n",
        "sns.heatmap(cm, annot=False, fmt=\"d\", cmap=\"YlGnBu\", xticklabels=classes, yticklabels=classes, cbar=True)\n",
        "\n",
        "# Labels and Title\n",
        "plt.xlabel(\"Predicted Label\", fontsize=12)\n",
        "plt.ylabel(\"True Label\", fontsize=12)\n",
        "plt.title(\"Confusion Matrix for Large Dataset\", fontsize=15)\n",
        "plt.xticks(rotation=45, ha=\"right\")\n",
        "plt.yticks(rotation=0)\n",
        "plt.tight_layout()\n",
        "plt.show()\n"
      ]
    },
    {
      "cell_type": "code",
      "execution_count": null,
      "metadata": {
        "id": "4dBe0sM3UAYn"
      },
      "outputs": [],
      "source": []
    }
  ],
  "metadata": {
    "colab": {
      "provenance": [],
      "mount_file_id": "1R1nbZ2nEf-gXNzMcwb6OATtB1utmucxY",
      "authorship_tag": "ABX9TyPsocSLOtEu2Iyt/9oS4DWg",
      "include_colab_link": true
    },
    "kernelspec": {
      "display_name": "Python 3",
      "name": "python3"
    },
    "language_info": {
      "name": "python"
    }
  },
  "nbformat": 4,
  "nbformat_minor": 0
}